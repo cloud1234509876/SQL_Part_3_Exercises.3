{
 "cells": [
  {
   "cell_type": "markdown",
   "metadata": {
    "azdata_cell_guid": "db9534a9-c8a7-4c09-8180-bcba0690bb02"
   },
   "source": [
    "# SQL Part 3 Exercises Joins\n",
    "\n",
    "This notebook works with the BooksDB dataset.  \n",
    "\n",
    "**Questions 1-4** focus on how joins work in a more general sense.  If you are not sure how to best answer the questions, try manipulating the queries by changing the order of joins, the length of the TOP, or how they are ordered.  \n",
    "\n",
    "> <span style=\"background-color: rgba(127, 127, 127, 0.1);\"><i>Note</i>: If some of the queries are not returning quickly, you can try closing and restarting azure data studio after a few minutes.</span>\n",
    "\n",
    "In **questions 5-8**, you will be asked to join tables to find results about titles, tags, and the books users want to read.\n",
    "\n",
    "As you go through the questions, you will see 'Minimum Desired Output'.  This will provide you with the bare minimum columns needed to answer the questions.  When you write the queries, add as many additional columns as you need to best find your answers."
   ]
  },
  {
   "cell_type": "markdown",
   "metadata": {
    "azdata_cell_guid": "660be568-9a70-40ff-a2fa-a78e31e87b6f"
   },
   "source": [
    "## **QUESTION 1:**  Exploring a LEFT JOIN using the **books** and **to\\_read** tables\n",
    "\n",
    "The code block below has been commented out. To answer this question, you will need to uncomment it by removing the **/\\*** (line 1) and **\\*/** (line 16).\n",
    "\n",
    "**Part A:** Look at Query 1, which table is the 'Left' table and which is the 'Right'?\n",
    "\n",
    "> Your Answer: Left Table apppears to include Title, Average_Rating, and Books_Count. The Right table appears to be the title and user_id.\n",
    "\n",
    "**Part B:** Using table 2, answer the following questions: \n",
    "\n",
    "- When we added a  '**WHERE tr.user\\_id IS NOT NULL'** clause (line 14), how did the table change?  Why?\n",
    "\n",
    "> Your Answer: It removed all null entries deleting that entire entry row data including title, average_rating and books_count. This remomved any row that did not include a user_id."
   ]
  },
  {
   "cell_type": "code",
   "execution_count": 23,
   "metadata": {
    "azdata_cell_guid": "25dcd34c-5e5d-4393-9da0-a4c0effb6455",
    "tags": []
   },
   "outputs": [
    {
     "data": {
      "text/html": [
       "Commands completed successfully."
      ]
     },
     "metadata": {},
     "output_type": "display_data"
    },
    {
     "data": {
      "text/html": [
       "Total execution time: 00:00:00.055"
      ]
     },
     "metadata": {},
     "output_type": "display_data"
    }
   ],
   "source": [
    "/*\n",
    "-- Query 1: LEFT JOIN \n",
    "SELECT TOP 50 b.title, b.average_rating, b.books_count,tr.user_id, tr.book_id\n",
    "FROM BooksDB.dbo.books AS b\n",
    "LEFT JOIN BooksDB.dbo.to_read AS tr\n",
    "ON b.best_book_id = tr.book_id\n",
    "ORDER BY b.average_rating;\n",
    "\n",
    "-- Query 2: LEFT JOIN USING 'IS NOT NULL'\n",
    "SELECT TOP 50 b.title, b.average_rating, b.books_count,tr.user_id, tr.book_id\n",
    "FROM BooksDB.dbo.books AS b\n",
    "LEFT JOIN BooksDB.dbo.to_read AS tr\n",
    "ON b.best_book_id = tr.book_id\n",
    "WHERE tr.user_id IS NOT NULL\n",
    "ORDER BY b.average_rating;\n",
    "*/"
   ]
  },
  {
   "cell_type": "markdown",
   "metadata": {
    "azdata_cell_guid": "c1e417d9-89d2-4a7d-ab46-b43c8bddc54f"
   },
   "source": [
    "## **QUESTION 2:** Exploring **RIGHT** joins with the **books** and **to\\_read** tables\n",
    "\n",
    "You will need to uncomment the Query to answer the question.\n",
    "\n",
    "**Part A:** Looking at the query, which table is the 'Left' and which is the 'Right'?\n",
    "\n",
    "> Your Answer: Left: includes the title, average_rating, and books count\n",
    "Right: includes user_id and book_id\n",
    "\n",
    "**Part B:** How do the RIGHT-joined tables differ from the LEFT-joined tables in Question 1?  \n",
    "\n",
    "> Your Answer: The null entries appear on the left instead of on the right. "
   ]
  },
  {
   "cell_type": "code",
   "execution_count": 24,
   "metadata": {
    "azdata_cell_guid": "8cf020b8-2a76-46a6-acff-97eb1acc7fed",
    "tags": []
   },
   "outputs": [
    {
     "data": {
      "text/html": [
       "Commands completed successfully."
      ]
     },
     "metadata": {},
     "output_type": "display_data"
    },
    {
     "data": {
      "text/html": [
       "Total execution time: 00:00:00.078"
      ]
     },
     "metadata": {},
     "output_type": "display_data"
    }
   ],
   "source": [
    "/*\n",
    "-- Query 1: RIGHT JOIN\n",
    "SELECT TOP 300 b.title, b.average_rating, b.books_count, tr.user_id, tr.book_id\n",
    "FROM BooksDB.dbo.books AS b\n",
    "RIGHT JOIN BooksDB.dbo.to_read AS tr\n",
    "ON b.best_book_id = tr.book_id;\n",
    "*/"
   ]
  },
  {
   "cell_type": "markdown",
   "metadata": {
    "azdata_cell_guid": "8f6b8f22-3e5a-4b87-a2f2-07279f1deb94"
   },
   "source": [
    "## **QUESTION 3:** Exploring FULL JOINS with the **books** and **to\\_read** tables\n",
    "\n",
    "You will need to uncomment the Query to answer the question.\n",
    "\n",
    "**Part A:**  Look at the table and explore how it was populated.  Try manipulating the query to better understand how this table works.  Try adding a WHERE clause, or ORDER BY a column on the **books** table.  Based on your exploration, can you think of when you might want a FULL join rather than a LEFT, RIGHT, or INNER?\n",
    "\n",
    "> Your Answer: Unable to add order by or where on the code below."
   ]
  },
  {
   "cell_type": "code",
   "execution_count": 25,
   "metadata": {
    "azdata_cell_guid": "7c2a3dff-ef55-4222-aef0-7c0ab4f942eb",
    "tags": []
   },
   "outputs": [
    {
     "data": {
      "text/html": [
       "Commands completed successfully."
      ]
     },
     "metadata": {},
     "output_type": "display_data"
    },
    {
     "data": {
      "text/html": [
       "Total execution time: 00:00:00.059"
      ]
     },
     "metadata": {},
     "output_type": "display_data"
    }
   ],
   "source": [
    "/*\n",
    "-- FULL JOIN\n",
    "SELECT TOP 30 b.title, b.average_rating, b.books_count,tr.user_id, tr.book_id\n",
    "FROM BooksDB.dbo.books AS b\n",
    "FULL JOIN BooksDB.dbo.to_read AS tr\n",
    "ON b.book_id = tr.book_id;\n",
    "# */ added this below:\n",
    "# ORDER BY b.average_rating;"
   ]
  },
  {
   "cell_type": "markdown",
   "metadata": {
    "azdata_cell_guid": "4dab11ce-7995-4444-92dd-4cb2c0bc02c8"
   },
   "source": [
    "## **QUESTION 4:** Exploring INNER Joins with the **books** and **to\\_read** tables\n",
    "\n",
    "You will need to uncomment the Query to answer the question.\n",
    "\n",
    "**Part A:**  What does an inner join do? It does not save any information that is null.\n",
    "\n",
    "> <span style=\"background-color: rgba(127, 127, 127, 0.1); font-family: -apple-system, BlinkMacSystemFont, sans-serif;\">Your Answer:</span>\n",
    "\n",
    "<span style=\"background-color: rgba(127, 127, 127, 0.1); font-family: -apple-system, BlinkMacSystemFont, sans-serif;\"><b>Part B:</b>&nbsp;Currently this table has an <b>'IS NOT NULL'</b> in the <b>WHERE</b> clause.&nbsp; Is this necessary for this table?&nbsp; Why or Why not?&nbsp;</span> \n",
    "\n",
    "> Your Answer: Not necessary for the inner join process.\n",
    "\n",
    "**Part C:**  When using SQL, you are usually returning much larger tables so every line of code will add to the compilation and return time.  Rewrite this inner join query so that it contains no redundant code.   \n",
    "\n",
    "> Your Answer:  Update the query in the code box below.\n",
    "\n",
    "SELECT TOP 30 b.title, b.average_rating, b.books_count,tr.user_id, tr.book_id\n",
    "FROM BooksDB.dbo.books AS b\n",
    "INNER JOIN BooksDB.dbo.to_read AS tr\n",
    "ON b.book_id = tr.book_id\n",
    "ORDER BY tr.book_id;"
   ]
  },
  {
   "cell_type": "code",
   "execution_count": 26,
   "metadata": {
    "azdata_cell_guid": "66d430ab-18aa-4a29-a32d-0585445e417c",
    "scrolled": true,
    "tags": []
   },
   "outputs": [
    {
     "data": {
      "text/html": [
       "Commands completed successfully."
      ]
     },
     "metadata": {},
     "output_type": "display_data"
    },
    {
     "data": {
      "text/html": [
       "Total execution time: 00:00:00.061"
      ]
     },
     "metadata": {},
     "output_type": "display_data"
    }
   ],
   "source": [
    "/*\n",
    "-- INNER JOIN\n",
    "SELECT TOP 30 b.title, b.average_rating, b.books_count,tr.user_id, tr.book_id\n",
    "FROM BooksDB.dbo.books AS b\n",
    "INNER JOIN BooksDB.dbo.to_read AS tr\n",
    "ON b.book_id = tr.book_id\n",
    "WHERE b.title IS NOT NULL\n",
    "ORDER BY tr.book_id;\n",
    "*/"
   ]
  },
  {
   "cell_type": "markdown",
   "metadata": {
    "azdata_cell_guid": "a685e9cc-2ae2-40e8-8cc1-022c8064d66d"
   },
   "source": [
    "## **QUESTION 5:**  Using joins to find the most tagged book and the most popular tag\n",
    "\n",
    "We will be writing 3 queries to find both the most tagged book and that book's most popular tag.\n",
    "\n",
    "**Part A:**  What is the most tagged book?\n",
    "\n",
    "Start by joining the tables ON the books.best_book_id and book_tags.goodreads_book_id.&nbsp;&nbsp;<br></span> <span style=\"background-color: rgba(127, 127, 127, 0.1); font-family: -apple-system, BlinkMacSystemFont, sans-serif;\">We want the <i>most popular</i> book, so think about ordering the table in a way that will display both the book title and the number of times a book tag has been used.</span>\n",
    "> \n",
    "> _MInimum Desired output:_  The title of the most tagged book, and the number of times the book has been tagged.\n",
    "> \n",
    "> **Title:** Harry Potter and the Half Blood Prince\n",
    "\n",
    "**Part B:** How many different tags have been used for the most tagged book?\n",
    "\n",
    "21 tags for The Big Nowhere\n",
    "\n",
    "> <span style=\"font-family: -apple-system, BlinkMacSystemFont, sans-serif; background-color: rgba(127, 127, 127, 0.1);\">Start by joining the&nbsp;</span> **books** <span style=\"font-family: -apple-system, BlinkMacSystemFont, sans-serif; background-color: rgba(127, 127, 127, 0.1);\">and&nbsp;</span> **book\\_tags** <span style=\"font-family: -apple-system, BlinkMacSystemFont, sans-serif; background-color: rgba(127, 127, 127, 0.1);\">&nbsp;tables ON the books.best_book_id and book_tags.goodreads_book_id.&nbsp;&nbsp;<br></span> We want to find the _most popular_ tag id, so think about ordering in a way that will display the most popular tag id.\n",
    "> \n",
    "> <span style=\"font-family: -apple-system, BlinkMacSystemFont, sans-serif; background-color: rgba(127, 127, 127, 0.1);\"><i>Minimum Desired Output:</i> The tag id for the most popular tag used for the most tagged book.&nbsp;</span> \n",
    "> \n",
    "> <span style=\"font-family: -apple-system, BlinkMacSystemFont, sans-serif; background-color: rgba(127, 127, 127, 0.1);\"><b>Tag Id:</b></span>\n",
    "\n",
    "<span style=\"font-family: -apple-system, BlinkMacSystemFont, sans-serif; background-color: rgba(127, 127, 127, 0.1);\"><b>Part C: </b>What is this particular tag?</span>\n",
    "\n",
    "> You may return this answer with a simple query. Most popular tag ID: 0\n",
    "\n",
    "> <span style=\"font-family: -apple-system, BlinkMacSystemFont, sans-serif; background-color: rgba(127, 127, 127, 0.1);\"><i>Minimum Desired Output:</i>&nbsp;The tag name for the most popular tag used for the most tagged book.&nbsp;</span> \n",
    "> \n",
    "> <span style=\"font-family: -apple-system, BlinkMacSystemFont, sans-serif; background-color: rgba(127, 127, 127, 0.1);\"><b>Tag Name:</b></span>"
   ]
  },
  {
   "cell_type": "code",
   "execution_count": 27,
   "metadata": {
    "azdata_cell_guid": "de3ac253-6b47-4740-8c6e-5f9d1b0ce36b"
   },
   "outputs": [
    {
     "data": {
      "text/html": [
       "Commands completed successfully."
      ]
     },
     "metadata": {},
     "output_type": "display_data"
    },
    {
     "data": {
      "text/html": [
       "Total execution time: 00:00:00.058"
      ]
     },
     "metadata": {},
     "output_type": "display_data"
    }
   ],
   "source": [
    "-- Code Here:"
   ]
  },
  {
   "cell_type": "markdown",
   "metadata": {
    "azdata_cell_guid": "df783e7e-3aff-4e63-9edb-f2e729c7d1c8"
   },
   "source": [
    "## **QUESTION 6:** Find a book based on a tag of your choice using joins.\n",
    "\n",
    "Some suggestions: any hobbies you like? baking, drawing, etc. how about favorite holidays, subjects, animals, etc?\n",
    "\n",
    "**Part A:** Explore the tags table for a tag of your choice.  Suggested ideas, try searching for one of your hobbies, a favorite time of year, favorite animal, etc.  Start by querying the tag table for your chosen tag.  (_Hint:_ in order to make sure you find all combinations of your tags, use the wildcard).  If your query returns more than one result, pick your favorite.\n",
    "\n",
    "> > _Here is an example.  Alyce wanted to search for halloween books.  She used the wildcard, '%halloween%' and 8 different combinations were found.  Alyce selected '**halloween-storytime**', with a tag id of 13877._\n",
    "\n",
    "> _Minimum Desired Output:_ <span style=\"font-family: -apple-system, BlinkMacSystemFont, sans-serif; background-color: rgba(127, 127, 127, 0.1);\">tag name and tag id</span>\n",
    "\n",
    "> **Your Tag and Tag Id:**\n",
    "\n",
    "**Part B:** Now that you have the **tag id**, find the title that was tagged the most with this tag by joining the books and books\\_tags tables.\n",
    "\n",
    "> > _Alyce joined the book table with the tags table and discovered that <u>The Little Old Lady Who Was Not Afraid of Anything</u> was tagged as '**halloween-storytime**' the most._\n",
    "\n",
    "> _Minimum Desired Output:_ <span style=\"background-color: rgba(127, 127, 127, 0.1); font-family: -apple-system, BlinkMacSystemFont, sans-serif;\">title and tag count</span>\n",
    "\n",
    "> **Your Title and Number of times the tag was used:**"
   ]
  },
  {
   "cell_type": "code",
   "execution_count": 28,
   "metadata": {
    "azdata_cell_guid": "c4b0b67c-7cfa-4f52-be97-ffe5cc28ed54",
    "tags": []
   },
   "outputs": [
    {
     "data": {
      "text/html": [
       "Commands completed successfully."
      ]
     },
     "metadata": {},
     "output_type": "display_data"
    },
    {
     "data": {
      "text/html": [
       "Total execution time: 00:00:04.235"
      ]
     },
     "metadata": {},
     "output_type": "display_data"
    }
   ],
   "source": [
    "-- Code Here:"
   ]
  },
  {
   "cell_type": "markdown",
   "metadata": {
    "azdata_cell_guid": "4e5349b7-24f6-481a-9d88-bb4f86abc624"
   },
   "source": [
    "## **QUESTION 7:** What are the top 10 most popular book titles on the 'to read' list?\n",
    "\n",
    "**Part A:**  Explore how the **to\\_read** and **books** tables are organized, and then join them.  What will you use as a key?\n",
    "\n",
    "> Your Answer: Harry Potter #6\n",
    "\n",
    "**Part B:** Organize your newly joined table in a way that groups popularity based on the title based on users.\n",
    "\n",
    "> _Hint:_ Suggest using an alias for the aggregation you will need to run on the **user\\_id**\n",
    "\n",
    "> _Minimum Desired Output:_ title and aliased column"
   ]
  },
  {
   "cell_type": "code",
   "execution_count": 29,
   "metadata": {
    "azdata_cell_guid": "8af25df1-ce61-4152-8198-0b53c17642d0"
   },
   "outputs": [
    {
     "data": {
      "text/html": [
       "Commands completed successfully."
      ]
     },
     "metadata": {},
     "output_type": "display_data"
    },
    {
     "data": {
      "text/html": [
       "Total execution time: 00:00:00.057"
      ]
     },
     "metadata": {},
     "output_type": "display_data"
    }
   ],
   "source": [
    "-- Code Here:\n",
    "SELECT TOP 10 b.title, b.average_rating, b.best_book_id, tr.user_id, tr.book_id\n",
    "FROM BooksDB.dbo.books AS b\n",
    "RIGHT JOIN BooksDB.dbo.to_read AS tr\n",
    "ON b.best_book_id = tr.book_id\n",
    "ORDER BY tr.book_id"
   ]
  },
  {
   "cell_type": "markdown",
   "metadata": {
    "azdata_cell_guid": "0b0090b0-2b28-44c6-8bb6-06b4c03c3ff1"
   },
   "source": [
    "## **QUESTION 8:** Largest 'To Read' Lists\n",
    "\n",
    "**Part A:**  Create a query that returns a table that contains the top 10 users with the most number of titles on their 'to read' list.    Group all the entries by user\\_id.  \n",
    "\n",
    "> _Hint:_ You might want an alias for the titles.\n",
    "> \n",
    "> _Minimum Desired Output:_  user\\_id and your aliased column of titles.\n",
    "\n",
    "**Part B:**  The longest list length is 15 titles total, and is shared by 4 different users.  Select one of the uses and print out their entire '**to read**' list."
   ]
  },
  {
   "cell_type": "code",
   "execution_count": 30,
   "metadata": {
    "azdata_cell_guid": "c6c815f8-890d-4163-be63-3d300e320597",
    "tags": []
   },
   "outputs": [
    {
     "data": {
      "text/html": [
       "Commands completed successfully."
      ]
     },
     "metadata": {},
     "output_type": "display_data"
    },
    {
     "data": {
      "text/html": [
       "Total execution time: 00:00:00.055"
      ]
     },
     "metadata": {},
     "output_type": "display_data"
    }
   ],
   "source": [
    "-- Code Here: Children of Dune (book id: 112)"
   ]
  }
 ],
 "metadata": {
  "extensions": {
   "azuredatastudio": {
    "version": 1,
    "views": []
   }
  },
  "kernelspec": {
   "display_name": "Python 3 (ipykernel)",
   "language": "python",
   "name": "python3"
  },
  "language_info": {
   "codemirror_mode": {
    "name": "ipython",
    "version": 3
   },
   "file_extension": ".py",
   "mimetype": "text/x-python",
   "name": "python",
   "nbconvert_exporter": "python",
   "pygments_lexer": "ipython3",
   "version": "3.10.9"
  }
 },
 "nbformat": 4,
 "nbformat_minor": 2
}
